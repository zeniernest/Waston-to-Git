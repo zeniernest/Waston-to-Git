{
    "cells": [
        {
            "cell_type": "code",
            "execution_count": 1,
            "metadata": {},
            "outputs": [
                {
                    "data": {
                        "text/html": "<div>\n<style scoped>\n    .dataframe tbody tr th:only-of-type {\n        vertical-align: middle;\n    }\n\n    .dataframe tbody tr th {\n        vertical-align: top;\n    }\n\n    .dataframe thead th {\n        text-align: right;\n    }\n</style>\n<table border=\"1\" class=\"dataframe\">\n  <thead>\n    <tr style=\"text-align: right;\">\n      <th></th>\n      <th>Make</th>\n      <th>Model</th>\n      <th>Year</th>\n      <th>Engine Fuel Type</th>\n      <th>Engine HP</th>\n      <th>Engine Cylinders</th>\n      <th>Transmission Type</th>\n      <th>Driven_Wheels</th>\n      <th>Number of Doors</th>\n      <th>Market Category</th>\n      <th>Vehicle Size</th>\n      <th>Vehicle Style</th>\n      <th>highway MPG</th>\n      <th>city mpg</th>\n      <th>Popularity</th>\n      <th>MSRP</th>\n    </tr>\n  </thead>\n  <tbody>\n    <tr>\n      <th>0</th>\n      <td>BMW</td>\n      <td>1 Series M</td>\n      <td>2011</td>\n      <td>premium unleaded (required)</td>\n      <td>335.0</td>\n      <td>6.0</td>\n      <td>MANUAL</td>\n      <td>rear wheel drive</td>\n      <td>2.0</td>\n      <td>Factory Tuner,Luxury,High-Performance</td>\n      <td>Compact</td>\n      <td>Coupe</td>\n      <td>26.0</td>\n      <td>19.0</td>\n      <td>3916.0</td>\n      <td>46135.0</td>\n    </tr>\n    <tr>\n      <th>1</th>\n      <td>BMW</td>\n      <td>1 Series</td>\n      <td>2011</td>\n      <td>premium unleaded (required)</td>\n      <td>300.0</td>\n      <td>6.0</td>\n      <td>MANUAL</td>\n      <td>rear wheel drive</td>\n      <td>2.0</td>\n      <td>Luxury,Performance</td>\n      <td>Compact</td>\n      <td>Convertible</td>\n      <td>28.0</td>\n      <td>19.0</td>\n      <td>3916.0</td>\n      <td>40650.0</td>\n    </tr>\n    <tr>\n      <th>2</th>\n      <td>BMW</td>\n      <td>1 Series</td>\n      <td>2011</td>\n      <td>premium unleaded (required)</td>\n      <td>300.0</td>\n      <td>6.0</td>\n      <td>MANUAL</td>\n      <td>rear wheel drive</td>\n      <td>2.0</td>\n      <td>Luxury,High-Performance</td>\n      <td>Compact</td>\n      <td>Coupe</td>\n      <td>28.0</td>\n      <td>20.0</td>\n      <td>3916.0</td>\n      <td>36350.0</td>\n    </tr>\n    <tr>\n      <th>3</th>\n      <td>BMW</td>\n      <td>1 Series</td>\n      <td>2011</td>\n      <td>premium unleaded (required)</td>\n      <td>230.0</td>\n      <td>6.0</td>\n      <td>MANUAL</td>\n      <td>rear wheel drive</td>\n      <td>2.0</td>\n      <td>Luxury,Performance</td>\n      <td>Compact</td>\n      <td>Coupe</td>\n      <td>28.0</td>\n      <td>18.0</td>\n      <td>3916.0</td>\n      <td>29450.0</td>\n    </tr>\n    <tr>\n      <th>4</th>\n      <td>BMW</td>\n      <td>1 Series</td>\n      <td>2011</td>\n      <td>premium unleaded (required)</td>\n      <td>230.0</td>\n      <td>6.0</td>\n      <td>MANUAL</td>\n      <td>rear wheel drive</td>\n      <td>2.0</td>\n      <td>Luxury</td>\n      <td>Compact</td>\n      <td>Convertible</td>\n      <td>28.0</td>\n      <td>18.0</td>\n      <td>3916.0</td>\n      <td>34500.0</td>\n    </tr>\n    <tr>\n      <th>5</th>\n      <td>BMW</td>\n      <td>1 Series</td>\n      <td>2012</td>\n      <td>premium unleaded (required)</td>\n      <td>230.0</td>\n      <td>6.0</td>\n      <td>MANUAL</td>\n      <td>rear wheel drive</td>\n      <td>2.0</td>\n      <td>Luxury,Performance</td>\n      <td>Compact</td>\n      <td>Coupe</td>\n      <td>28.0</td>\n      <td>18.0</td>\n      <td>3916.0</td>\n      <td>31200.0</td>\n    </tr>\n    <tr>\n      <th>6</th>\n      <td>BMW</td>\n      <td>1 Series</td>\n      <td>2012</td>\n      <td>premium unleaded (required)</td>\n      <td>300.0</td>\n      <td>6.0</td>\n      <td>MANUAL</td>\n      <td>rear wheel drive</td>\n      <td>2.0</td>\n      <td>Luxury,Performance</td>\n      <td>Compact</td>\n      <td>Convertible</td>\n      <td>26.0</td>\n      <td>17.0</td>\n      <td>3916.0</td>\n      <td>44100.0</td>\n    </tr>\n    <tr>\n      <th>7</th>\n      <td>BMW</td>\n      <td>1 Series</td>\n      <td>2012</td>\n      <td>premium unleaded (required)</td>\n      <td>300.0</td>\n      <td>6.0</td>\n      <td>MANUAL</td>\n      <td>rear wheel drive</td>\n      <td>2.0</td>\n      <td>Luxury,High-Performance</td>\n      <td>Compact</td>\n      <td>Coupe</td>\n      <td>28.0</td>\n      <td>20.0</td>\n      <td>3916.0</td>\n      <td>39300.0</td>\n    </tr>\n    <tr>\n      <th>8</th>\n      <td>BMW</td>\n      <td>1 Series</td>\n      <td>2012</td>\n      <td>premium unleaded (required)</td>\n      <td>230.0</td>\n      <td>6.0</td>\n      <td>MANUAL</td>\n      <td>rear wheel drive</td>\n      <td>2.0</td>\n      <td>Luxury</td>\n      <td>Compact</td>\n      <td>Convertible</td>\n      <td>28.0</td>\n      <td>18.0</td>\n      <td>3916.0</td>\n      <td>36900.0</td>\n    </tr>\n    <tr>\n      <th>9</th>\n      <td>BMW</td>\n      <td>1 Series</td>\n      <td>2013</td>\n      <td>premium unleaded (required)</td>\n      <td>230.0</td>\n      <td>6.0</td>\n      <td>MANUAL</td>\n      <td>rear wheel drive</td>\n      <td>2.0</td>\n      <td>Luxury</td>\n      <td>Compact</td>\n      <td>Convertible</td>\n      <td>27.0</td>\n      <td>18.0</td>\n      <td>3916.0</td>\n      <td>37200.0</td>\n    </tr>\n  </tbody>\n</table>\n</div>",
                        "text/plain": "  Make       Model  Year             Engine Fuel Type  Engine HP  \\\n0  BMW  1 Series M  2011  premium unleaded (required)      335.0   \n1  BMW    1 Series  2011  premium unleaded (required)      300.0   \n2  BMW    1 Series  2011  premium unleaded (required)      300.0   \n3  BMW    1 Series  2011  premium unleaded (required)      230.0   \n4  BMW    1 Series  2011  premium unleaded (required)      230.0   \n5  BMW    1 Series  2012  premium unleaded (required)      230.0   \n6  BMW    1 Series  2012  premium unleaded (required)      300.0   \n7  BMW    1 Series  2012  premium unleaded (required)      300.0   \n8  BMW    1 Series  2012  premium unleaded (required)      230.0   \n9  BMW    1 Series  2013  premium unleaded (required)      230.0   \n\n   Engine Cylinders Transmission Type     Driven_Wheels  Number of Doors  \\\n0               6.0            MANUAL  rear wheel drive              2.0   \n1               6.0            MANUAL  rear wheel drive              2.0   \n2               6.0            MANUAL  rear wheel drive              2.0   \n3               6.0            MANUAL  rear wheel drive              2.0   \n4               6.0            MANUAL  rear wheel drive              2.0   \n5               6.0            MANUAL  rear wheel drive              2.0   \n6               6.0            MANUAL  rear wheel drive              2.0   \n7               6.0            MANUAL  rear wheel drive              2.0   \n8               6.0            MANUAL  rear wheel drive              2.0   \n9               6.0            MANUAL  rear wheel drive              2.0   \n\n                         Market Category Vehicle Size Vehicle Style  \\\n0  Factory Tuner,Luxury,High-Performance      Compact         Coupe   \n1                     Luxury,Performance      Compact   Convertible   \n2                Luxury,High-Performance      Compact         Coupe   \n3                     Luxury,Performance      Compact         Coupe   \n4                                 Luxury      Compact   Convertible   \n5                     Luxury,Performance      Compact         Coupe   \n6                     Luxury,Performance      Compact   Convertible   \n7                Luxury,High-Performance      Compact         Coupe   \n8                                 Luxury      Compact   Convertible   \n9                                 Luxury      Compact   Convertible   \n\n   highway MPG  city mpg  Popularity     MSRP  \n0         26.0      19.0      3916.0  46135.0  \n1         28.0      19.0      3916.0  40650.0  \n2         28.0      20.0      3916.0  36350.0  \n3         28.0      18.0      3916.0  29450.0  \n4         28.0      18.0      3916.0  34500.0  \n5         28.0      18.0      3916.0  31200.0  \n6         26.0      17.0      3916.0  44100.0  \n7         28.0      20.0      3916.0  39300.0  \n8         28.0      18.0      3916.0  36900.0  \n9         27.0      18.0      3916.0  37200.0  "
                    },
                    "execution_count": 1,
                    "metadata": {},
                    "output_type": "execute_result"
                }
            ],
            "source": "# The code was removed by Watson Studio for sharing."
        },
        {
            "cell_type": "code",
            "execution_count": null,
            "metadata": {},
            "outputs": [],
            "source": ""
        }
    ],
    "metadata": {
        "kernelspec": {
            "display_name": "Python 3.10",
            "language": "python",
            "name": "python3"
        },
        "language_info": {
            "codemirror_mode": {
                "name": "ipython",
                "version": 3
            },
            "file_extension": ".py",
            "mimetype": "text/x-python",
            "name": "python",
            "nbconvert_exporter": "python",
            "pygments_lexer": "ipython3",
            "version": "3.10.14"
        }
    },
    "nbformat": 4,
    "nbformat_minor": 1
}